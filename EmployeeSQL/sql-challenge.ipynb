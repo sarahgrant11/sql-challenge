{
 "cells": [
  {
   "cell_type": "code",
   "execution_count": null,
   "metadata": {},
   "outputs": [],
   "source": [
    "#import dependacies\n",
    "import pandas as pd\n",
    "import numpy as np\n",
    "import matplotlib.pyplot as plt\n",
    "from sqlalchemy import create_engine\n",
    "\n",
    "#Create engine for import\n",
    "engine = create_engine('postgresql://localhost:5432/sql_challenge')\n",
    "conn = engine.connect()\n",
    "\n",
    "#use conn to import all the tabels from the SQL database in DataFrames\n",
    "department_data = pd.read_sql('SELECT * FROM \"DEPARTMENT\"', conn)\n",
    "employee_data = pd.read_sql('SELECT * FROM \"EMPLOYEE\"', conn)\n",
    "employee_data = employee_data.rename(columns={\"EMP_TITLE_ID\":\"TITLE_ID\"})\n",
    "dept_emp_data = pd.read_sql('SELECT * FROM \"DEPT_EMP\"', conn)\n",
    "dept_mgr_data = pd.read_sql('SELECT * FROM \"DEPT_MANAGER\"', conn)\n",
    "salary_data = pd.read_sql('SELECT * FROM \"SALARY\"', conn)\n",
    "title_data = pd.read_sql('SELECT * FROM \"TITLE\"', conn)"
   ]
  },
  {
   "cell_type": "code",
   "execution_count": null,
   "metadata": {},
   "outputs": [],
   "source": [
    "#Create Histogram for the salaries\n",
    "salary_data.hist('SALARY')\n",
    "plt.xlabel('Salary')\n",
    "plt.ylabel('# of employees')\n",
    "plt.title('Salary Histogram Breakdown')\n",
    "plt.savefig('Histogram.png')\n",
    "plt.show()"
   ]
  },
  {
   "cell_type": "code",
   "execution_count": null,
   "metadata": {},
   "outputs": [],
   "source": [
    "#merge data to create new dataframe with salary and title included with the employee data\n",
    "mergeddata = employee_data.merge(salary_data, on='EMP_NO')\n",
    "mergeddata = mergeddata.merge(title_data, on='TITLE_ID')\n",
    "mergeddata.head()"
   ]
  },
  {
   "cell_type": "code",
   "execution_count": null,
   "metadata": {},
   "outputs": [],
   "source": [
    "#find avg salary for each title and made dataframe\n",
    "title_info = mergeddata.groupby('TITLE')['SALARY'].mean()\n",
    "title_info_df = pd.DataFrame(title_info)\n",
    "title_info_df = title_info_df.reset_index()\n",
    "\n",
    "#set xticks and create label list\n",
    "x_positon = np.arange(len(title_info_df))\n",
    "objects = title_info_df['TITLE']\n",
    "\n",
    "#create bar chart with titles and formatting\n",
    "plt.bar(x_positon, title_info_df['SALARY'])\n",
    "plt.xticks(x_positon,objects,rotation = 90)\n",
    "plt.ylabel('Salary')\n",
    "plt.xlabel('Title')\n",
    "plt.title('Title vs Salary')\n",
    "plt.savefig('BarChart.png')\n",
    "plt.show()"
   ]
  },
  {
   "cell_type": "code",
   "execution_count": null,
   "metadata": {},
   "outputs": [],
   "source": [
    "#lookup my id (499942)\n",
    "my_id = mergeddata.loc[mergeddata['EMP_NO']== 499942]\n",
    "my_id"
   ]
  }
 ],
 "metadata": {
  "language_info": {
   "codemirror_mode": {
    "name": "ipython",
    "version": 3
   },
   "file_extension": ".py",
   "mimetype": "text/x-python",
   "name": "python",
   "nbconvert_exporter": "python",
   "pygments_lexer": "ipython3",
   "version": 3
  },
  "orig_nbformat": 2
 },
 "nbformat": 4,
 "nbformat_minor": 2
}